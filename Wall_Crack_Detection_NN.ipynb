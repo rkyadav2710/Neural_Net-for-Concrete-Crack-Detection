{
  "nbformat": 4,
  "nbformat_minor": 0,
  "metadata": {
    "colab": {
      "name": "Final CNN model EI_Project",
      "provenance": [],
      "collapsed_sections": []
    },
    "kernelspec": {
      "name": "python3",
      "display_name": "Python 3"
    },
    "accelerator": "GPU"
  },
  "cells": [
    {
      "cell_type": "markdown",
      "metadata": {
        "colab_type": "text",
        "id": "BlmQIFSLZDdc"
      },
      "source": [
        "vi cam.py# Confirm TensorFlow can see the GPU\n",
        "\n",
        "Simply select \"GPU\" in the Accelerator drop-down in Notebook Settings (either through the Edit menu or the command palette at cmd/ctrl-shift-P)."
      ]
    },
    {
      "cell_type": "code",
      "metadata": {
        "colab_type": "code",
        "id": "3IEVK-KFxi5Z",
        "outputId": "2b63d7a3-6d2f-4904-c3ea-f0802b87b865",
        "colab": {
          "base_uri": "https://localhost:8080/",
          "height": 34
        }
      },
      "source": [
        "import tensorflow as tf\n",
        "device_name = tf.test.gpu_device_name()\n",
        "if device_name != '/device:GPU:0':\n",
        "  raise SystemError('GPU device not found')\n",
        "print('Found GPU at: {}'.format(device_name))"
      ],
      "execution_count": 0,
      "outputs": [
        {
          "output_type": "stream",
          "text": [
            "Found GPU at: /device:GPU:0\n"
          ],
          "name": "stdout"
        }
      ]
    },
    {
      "cell_type": "markdown",
      "metadata": {
        "colab_type": "text",
        "id": "QXRh0DPiZRyG"
      },
      "source": [
        "# Observe TensorFlow speedup on GPU relative to CPU\n",
        "\n",
        "This example constructs a typical convolutional neural network layer over a\n",
        "random image and manually places the resulting ops on either the CPU or the GPU\n",
        "to compare execution speed."
      ]
    },
    {
      "cell_type": "code",
      "metadata": {
        "colab_type": "code",
        "id": "t9ALbbpmY9rm",
        "outputId": "b62ae44b-cbce-4dce-c756-6702a5c70f9b",
        "colab": {
          "base_uri": "https://localhost:8080/",
          "height": 132
        }
      },
      "source": [
        "import tensorflow as tf\n",
        "import timeit\n",
        "\n",
        "# See https://www.tensorflow.org/tutorials/using_gpu#allowing_gpu_memory_growth\n",
        " https://www.tensorflow.org/tutorials/using_gpu#allowing_gpu_memory_growth"
      ],
      "execution_count": 0,
      "outputs": [
        {
          "output_type": "error",
          "ename": "IndentationError",
          "evalue": "ignored",
          "traceback": [
            "\u001b[0;36m  File \u001b[0;32m\"<ipython-input-2-160de13cfb5b>\"\u001b[0;36m, line \u001b[0;32m5\u001b[0m\n\u001b[0;31m    https://www.tensorflow.org/tutorials/using_gpu#allowing_gpu_memory_growth\u001b[0m\n\u001b[0m    ^\u001b[0m\n\u001b[0;31mIndentationError\u001b[0m\u001b[0;31m:\u001b[0m unexpected indent\n"
          ]
        }
      ]
    },
    {
      "cell_type": "code",
      "metadata": {
        "id": "sNtQhl8mde4v",
        "colab_type": "code",
        "outputId": "8fae5fa9-15b3-4e52-e024-56cb0e08dc70",
        "colab": {
          "base_uri": "https://localhost:8080/",
          "height": 121
        }
      },
      "source": [
        "!git clone 'https://github.com/rkyadav2710/Neural_Net-for-Concrete-Crack-Detection'"
      ],
      "execution_count": 0,
      "outputs": [
        {
          "output_type": "stream",
          "text": [
            "Cloning into 'Neural_Net-for-Concrete-Crack-Detection'...\n",
            "remote: Enumerating objects: 20410, done.\u001b[K\n",
            "remote: Total 20410 (delta 0), reused 0 (delta 0), pack-reused 20410\u001b[K\n",
            "Receiving objects: 100% (20410/20410), 118.88 MiB | 34.90 MiB/s, done.\n",
            "Resolving deltas: 100% (14/14), done.\n",
            "Checking out files: 100% (20396/20396), done.\n"
          ],
          "name": "stdout"
        }
      ]
    },
    {
      "cell_type": "code",
      "metadata": {
        "id": "gvf_YOoodrz_",
        "colab_type": "code",
        "colab": {}
      },
      "source": [
        "from PIL import Image\n",
        "import cv2\n",
        "import os\n",
        "import numpy as np\n",
        "from sklearn.model_selection import train_test_split\n",
        "import random\n"
      ],
      "execution_count": 0,
      "outputs": []
    },
    {
      "cell_type": "code",
      "metadata": {
        "id": "U_F2gsSmtAs_",
        "colab_type": "code",
        "outputId": "02f7bf84-100d-407f-ee20-90a321629eab",
        "colab": {
          "base_uri": "https://localhost:8080/",
          "height": 34
        }
      },
      "source": [
        "ls"
      ],
      "execution_count": 0,
      "outputs": [
        {
          "output_type": "stream",
          "text": [
            "\u001b[0m\u001b[01;34mNeural_Net-for-Concrete-Crack-Detection\u001b[0m/  \u001b[01;34msample_data\u001b[0m/\n"
          ],
          "name": "stdout"
        }
      ]
    },
    {
      "cell_type": "code",
      "metadata": {
        "id": "UoqJZIVOeFOT",
        "colab_type": "code",
        "outputId": "545af73a-6cb5-46b1-a036-85a39a90ef64",
        "colab": {
          "base_uri": "https://localhost:8080/",
          "height": 51
        }
      },
      "source": [
        "#image = np.zeros((256, 256), dtype='uint8')\n",
        "y_trains1 = []\n",
        "y_trains2 = []\n",
        "\n",
        "imagesPath1 = 'Neural_Net-for-Concrete-Crack-Detection/cracky/crack'\n",
        "imagesPath2 = 'Neural_Net-for-Concrete-Crack-Detection/cracky/no_crack'\n",
        "\n",
        "for dirpath1, _, files1 in os.walk(imagesPath1): \n",
        "  for file1 in files1:\n",
        "    image1 = Image.open(os.path.join(dirpath1, file1))\n",
        "    image1 = image1.resize((160, 160))\n",
        "    image1.save(os.path.join(dirpath1, file1))\n",
        "\n",
        "\n",
        "    y_trains1.append(1)\n",
        "     \n",
        "\n",
        "\n",
        "for dirpath2, _, files2 in os.walk(imagesPath2): \n",
        "  for file2 in files2:\n",
        "    image2 = Image.open(os.path.join(dirpath2, file2))\n",
        "    image2 = image2.resize((160, 160))\n",
        "    image2.save(os.path.join(dirpath2, file2))\n",
        "\n",
        "\n",
        "    y_trains2.append(0)\n",
        "     \n",
        "y_train2 = np.asarray(y_trains2)\n",
        "y_train1 = np.asarray(y_trains1)\n",
        "\n",
        "print(y_train1.shape)\n",
        "print(y_train2.shape)"
      ],
      "execution_count": 0,
      "outputs": [
        {
          "output_type": "stream",
          "text": [
            "(959,)\n",
            "(1189,)\n"
          ],
          "name": "stdout"
        }
      ]
    },
    {
      "cell_type": "code",
      "metadata": {
        "colab_type": "code",
        "outputId": "b0667514-a8f8-483f-9432-5a0287bdd1df",
        "id": "Q_aWCb6sj7T-",
        "colab": {
          "base_uri": "https://localhost:8080/",
          "height": 34
        }
      },
      "source": [
        "imagesPath1T = 'Neural_Net-for-Concrete-Crack-Detection/cracky/crack_test'\n",
        "imagesPath2T = 'Neural_Net-for-Concrete-Crack-Detection/cracky/no_crack_test'\n",
        "\n",
        "i=0\n",
        "j=0\n",
        "\n",
        "for dirpath1, _, files1 in os.walk(imagesPath1T): \n",
        "  for file1 in files1:\n",
        "    image1 = Image.open(os.path.join(dirpath1, file1))\n",
        "    j=j+1\n",
        "\n",
        "for dirpath2, _, files2 in os.walk(imagesPath2T): \n",
        "  for file2 in files2:\n",
        "    image2 = Image.open(os.path.join(dirpath2, file2))\n",
        "    image2.save(os.path.join(dirpath2, file2))\n",
        "    i=i+1\n",
        "    \n",
        "print(i,' ',j)\n"
      ],
      "execution_count": 0,
      "outputs": [
        {
          "output_type": "stream",
          "text": [
            "75   32\n"
          ],
          "name": "stdout"
        }
      ]
    },
    {
      "cell_type": "code",
      "metadata": {
        "id": "kgguaebteGam",
        "colab_type": "code",
        "outputId": "318b183e-d6e0-49c6-8484-8c60c3d9b156",
        "colab": {
          "base_uri": "https://localhost:8080/",
          "height": 51
        }
      },
      "source": [
        "dataset_dir1 = \"[DATASET_DIR1]\"\n",
        "dataset1 = np.asarray([\n",
        "    np.asarray(  # convert from PIL.Image to np.array\n",
        "        Image.open(os.path.join(dirpath1, img_fname1))  # open image\n",
        "    )\n",
        "    for dirpath1, _, fnames1 in os.walk(imagesPath1)  # scan the `dataset_dir`\n",
        "    for img_fname1 in fnames1  # for each file in `dataset_dir`\n",
        "])\n",
        "\n",
        "dataset_dir2 = \"[DATASET_DIR2]\"\n",
        "dataset2 = np.asarray([\n",
        "    np.asarray(  # convert from PIL.Image to np.array\n",
        "        Image.open(os.path.join(dirpath2, img_fname2))  # open image\n",
        "    )\n",
        "    for dirpath2, _, fnames2 in os.walk(imagesPath2)  # scan the `dataset_dir`\n",
        "    for img_fname2 in fnames2  # for each file in `dataset_dir`\n",
        "])\n",
        "\n",
        "print(dataset1.shape)\n",
        "print(dataset2.shape)"
      ],
      "execution_count": 0,
      "outputs": [
        {
          "output_type": "stream",
          "text": [
            "(959, 160, 160, 3)\n",
            "(1189, 160, 160, 3)\n"
          ],
          "name": "stdout"
        }
      ]
    },
    {
      "cell_type": "code",
      "metadata": {
        "id": "dfrUrxEteJWt",
        "colab_type": "code",
        "outputId": "d5a70f39-1ff3-424f-8da0-7cbe6f975b08",
        "colab": {
          "base_uri": "https://localhost:8080/",
          "height": 153
        }
      },
      "source": [
        "\n",
        "from sklearn.model_selection import train_test_split\n",
        "\n",
        "#Splitting \n",
        "X_train1, X_test1, y_train1, y_test1 = train_test_split(dataset1, y_train1, test_size=0.2, random_state=33)\n",
        "X_test1, X_val1, y_test1, y_val1 = train_test_split(X_test1, y_test1, test_size=0.5, random_state=33)\n",
        "print(\"Train set size1: {0}, Val set size1: {1}, Test set size1: {2}\".format(len(X_train1), len(X_val1), len(X_test1)))\n",
        "\n",
        "\n",
        "#Splitting\n",
        "X_train2, X_test2, y_train2, y_test2 = train_test_split(dataset2, y_train2, test_size=0.2, random_state=33)\n",
        "X_test2, X_val2, y_test2, y_val2 = train_test_split(X_test2, y_test2, test_size=0.5, random_state=33)\n",
        "print(\"Train set size2: {0}, Val set size2: {1}, Test set size2: {2}\".format(len(X_train2), len(X_val2), len(X_test2)))\n",
        "\n",
        "X_train = np.concatenate([X_train1, X_train2])\n",
        "X_test = np.concatenate([X_test1, X_test2])\n",
        "X_val = np.concatenate([X_val1, X_val2])\n",
        "\n",
        "y_train = np.concatenate([y_train1, y_train2])\n",
        "y_test = np.concatenate([y_test1, y_test2])\n",
        "y_val = np.concatenate([y_val1, y_val2])\n",
        "\n",
        "print(X_train.shape)\n",
        "print(X_test.shape)\n",
        "print(X_val.shape)\n",
        "print(y_train.shape)\n",
        "print(y_test.shape)\n",
        "print(y_val.shape)\n"
      ],
      "execution_count": 0,
      "outputs": [
        {
          "output_type": "stream",
          "text": [
            "Train set size1: 767, Val set size1: 96, Test set size1: 96\n",
            "Train set size2: 951, Val set size2: 119, Test set size2: 119\n",
            "(1718, 160, 160, 3)\n",
            "(215, 160, 160, 3)\n",
            "(215, 160, 160, 3)\n",
            "(1718,)\n",
            "(215,)\n",
            "(215,)\n"
          ],
          "name": "stdout"
        }
      ]
    },
    {
      "cell_type": "code",
      "metadata": {
        "id": "EtqxWtD8eMQm",
        "colab_type": "code",
        "outputId": "9ab33732-4c31-443d-8d7a-ae4877193aa6",
        "colab": {
          "base_uri": "https://localhost:8080/",
          "height": 119
        }
      },
      "source": [
        "import cv2\n",
        "import numpy as np\n",
        "\n",
        "\n",
        "kernel = np.ones((5,5), np.uint8)\n",
        "\n",
        "def grayscale(img):\n",
        "  \n",
        "  img = cv2.GaussianBlur(img, (5, 5), 0)\n",
        "  img_erosion = cv2.erode(img, kernel, iterations=1) \n",
        "  img_dilation = cv2.dilate(img_erosion, kernel, iterations=1) \n",
        "  ret,img = cv2.threshold(img_dilation,127,255,cv2.THRESH_BINARY)\n",
        "  ret,img = cv2.threshold(img_dilation,127,255,cv2.THRESH_BINARY_INV)\n",
        "  ret,img = cv2.threshold(img_dilation,127,255,cv2.THRESH_TRUNC)\n",
        "  ret,img = cv2.threshold(img_dilation,127,255,cv2.THRESH_TOZERO)\n",
        "  ret,img = cv2.threshold(img_dilation,127,255,cv2.THRESH_TOZERO_INV)\n",
        "\n",
        "  img = cv2.cvtColor(img, cv2.COLOR_BGR2GRAY)\n",
        "  img = cv2.resize(img, (50, 50), 0)\n",
        "  \n",
        "  #cv2.imshow('Output', outim)\n",
        "  return img\n",
        "\n",
        "\n",
        "def pre_process(img):\n",
        "  img = grayscale(img)\n",
        "  img = img/255\n",
        "  return img\n",
        "\n",
        "\n",
        "X_train = np.array(list(map(pre_process, X_train)))\n",
        "X_val = np.array(list(map(pre_process, X_val)))\n",
        "X_test = np.array(list(map(pre_process, X_test)))\n",
        "\n",
        "X_train = X_train.reshape(1718, 50, 50, 1)\n",
        "X_val = X_val.reshape(215, 50, 50, 1)\n",
        "X_test = X_test.reshape(215, 50, 50, 1)\n",
        "\n",
        "y_train = y_train.reshape(1718, 1)\n",
        "y_test = y_test.reshape(215, 1)\n",
        "y_val = y_val.reshape(215, 1)\n",
        "\n",
        "print(X_train.shape)\n",
        "print(X_test.shape)\n",
        "print(X_val.shape)\n",
        "\n",
        "print(y_train.shape)\n",
        "print(y_test.shape)\n",
        "print(y_val.shape)\n",
        "    "
      ],
      "execution_count": 0,
      "outputs": [
        {
          "output_type": "stream",
          "text": [
            "(1718, 50, 50, 1)\n",
            "(215, 50, 50, 1)\n",
            "(215, 50, 50, 1)\n",
            "(1718, 1)\n",
            "(215, 1)\n",
            "(215, 1)\n"
          ],
          "name": "stdout"
        }
      ]
    },
    {
      "cell_type": "code",
      "metadata": {
        "id": "urt33bDt8FUw",
        "colab_type": "code",
        "outputId": "d17ff72d-f1d9-4e18-f084-73f83c3252b6",
        "colab": {
          "base_uri": "https://localhost:8080/",
          "height": 103
        }
      },
      "source": [
        "from keras.preprocessing.image import ImageDataGenerator\n",
        "import matplotlib.pyplot as plt\n",
        "from keras.utils.np_utils import to_categorical\n",
        "\n",
        "datagen = ImageDataGenerator(width_shift_range = 0.1,\n",
        "                            height_shift_range = 0.1,\n",
        "                            zoom_range = 0.3,\n",
        "                            shear_range = 0.1,\n",
        "                            rotation_range = 15.)\n",
        "\n",
        "datagen.fit(X_train)\n",
        "\n",
        "batches = datagen.flow(X_train, y_train, batch_size = 20)\n",
        "X_batch, y_batch = next(batches)\n",
        "\n",
        "fig, axs = plt.subplots(1, 20, figsize = (20, 5))\n",
        "fig.tight_layout()\n",
        "\n",
        "for i in range(20):\n",
        "  axs[i].imshow(X_batch[i].reshape(50, 50))\n",
        "  axs[i].axis('off')\n",
        "  \n",
        "y_train = to_categorical(y_train, 2)\n",
        "y_test = to_categorical(y_test, 2)\n",
        "y_val = to_categorical(y_val, 2)"
      ],
      "execution_count": 0,
      "outputs": [
        {
          "output_type": "stream",
          "text": [
            "Using TensorFlow backend.\n"
          ],
          "name": "stderr"
        },
        {
          "output_type": "display_data",
          "data": {
            "image/png": "[encoded data removed]",
            "text/plain": [
              "<Figure size 1440x360 with 20 Axes>"
            ]
          },
          "metadata": {
            "tags": []
          }
        }
      ]
    },
    {
      "cell_type": "code",
      "metadata": {
        "id": "V_d-d42jW32r",
        "colab_type": "code",
        "outputId": "38f57636-f7ea-4c6e-f783-ef16ee60b137",
        "colab": {
          "base_uri": "https://localhost:8080/",
          "height": 34
        }
      },
      "source": [
        "import keras\n",
        "from keras.models import Sequential\n",
        "from keras.optimizers import Adam\n",
        "from keras.layers import Dense\n",
        "from keras.layers import Flatten, Dropout\n",
        "from keras.layers.convolutional import Conv2D, MaxPooling2D\n",
        "from keras.utils.np_utils import to_categorical\n",
        "from keras.callbacks import LearningRateScheduler, ModelCheckpoint\n",
        "\n",
        "def modified_model():\n",
        "  model = Sequential()\n",
        "  model.add(Conv2D(60, (9, 9), input_shape=(50, 50, 1), activation='relu'))\n",
        "  model.add(MaxPooling2D(pool_size=(2, 2)))\n",
        "  \n",
        "  model.add(Conv2D(40, (7, 7), activation='relu'))\n",
        "  model.add(MaxPooling2D(pool_size=(2, 2)))\n",
        "  \n",
        "  model.add(Conv2D(90, (5, 5), activation='relu'))\n",
        "  model.add(Flatten())\n",
        "  model.add(Dense(600, activation='relu'))\n",
        "  model.add(Dropout(0.5))\n",
        "  model.add(Dense(2, activation='softmax'))\n",
        "  \n",
        "  model.compile(Adam(lr = 0.001), loss='categorical_crossentropy', metrics=['accuracy'])\n",
        "  return model\n"
      ],
      "execution_count": 0,
      "outputs": [
        {
          "output_type": "stream",
          "text": [
            "Using TensorFlow backend.\n"
          ],
          "name": "stderr"
        }
      ]
    },
    {
      "cell_type": "code",
      "metadata": {
        "id": "D6VHqCOxq5iN",
        "colab_type": "code",
        "outputId": "a7890b55-9bd0-4345-9608-a018e3beb264",
        "colab": {
          "base_uri": "https://localhost:8080/",
          "height": 1000
        }
      },
      "source": [
        "\n",
        "model = modified_model()\n",
        "print(model.summary())\n",
        "  \n",
        "history = model.fit_generator(datagen.flow(X_train, y_train, batch_size=50),\n",
        "                              steps_per_epoch=1500,\n",
        "                              epochs=15,\n",
        "                              validation_data=(X_val, y_val), shuffle = 1)"
      ],
      "execution_count": 0,
      "outputs": [
        {
          "output_type": "stream",
          "text": [
            "WARNING:tensorflow:From /usr/local/lib/python3.6/dist-packages/keras/backend/tensorflow_backend.py:66: The name tf.get_default_graph is deprecated. Please use tf.compat.v1.get_default_graph instead.\n",
            "\n",
            "WARNING:tensorflow:From /usr/local/lib/python3.6/dist-packages/keras/backend/tensorflow_backend.py:541: The name tf.placeholder is deprecated. Please use tf.compat.v1.placeholder instead.\n",
            "\n",
            "WARNING:tensorflow:From /usr/local/lib/python3.6/dist-packages/keras/backend/tensorflow_backend.py:4432: The name tf.random_uniform is deprecated. Please use tf.random.uniform instead.\n",
            "\n",
            "WARNING:tensorflow:From /usr/local/lib/python3.6/dist-packages/keras/backend/tensorflow_backend.py:4267: The name tf.nn.max_pool is deprecated. Please use tf.nn.max_pool2d instead.\n",
            "\n",
            "WARNING:tensorflow:From /usr/local/lib/python3.6/dist-packages/keras/backend/tensorflow_backend.py:148: The name tf.placeholder_with_default is deprecated. Please use tf.compat.v1.placeholder_with_default instead.\n",
            "\n",
            "WARNING:tensorflow:From /usr/local/lib/python3.6/dist-packages/keras/backend/tensorflow_backend.py:3733: calling dropout (from tensorflow.python.ops.nn_ops) with keep_prob is deprecated and will be removed in a future version.\n",
            "Instructions for updating:\n",
            "Please use `rate` instead of `keep_prob`. Rate should be set to `rate = 1 - keep_prob`.\n",
            "WARNING:tensorflow:From /usr/local/lib/python3.6/dist-packages/keras/optimizers.py:793: The name tf.train.Optimizer is deprecated. Please use tf.compat.v1.train.Optimizer instead.\n",
            "\n",
            "WARNING:tensorflow:From /usr/local/lib/python3.6/dist-packages/keras/backend/tensorflow_backend.py:3576: The name tf.log is deprecated. Please use tf.math.log instead.\n",
            "\n",
            "Model: \"sequential_1\"\n",
            "_________________________________________________________________\n",
            "Layer (type)                 Output Shape              Param #   \n",
            "=================================================================\n",
            "conv2d_1 (Conv2D)            (None, 42, 42, 60)        4920      \n",
            "_________________________________________________________________\n",
            "max_pooling2d_1 (MaxPooling2 (None, 21, 21, 60)        0         \n",
            "_________________________________________________________________\n",
            "conv2d_2 (Conv2D)            (None, 15, 15, 40)        117640    \n",
            "_________________________________________________________________\n",
            "max_pooling2d_2 (MaxPooling2 (None, 7, 7, 40)          0         \n",
            "_________________________________________________________________\n",
            "conv2d_3 (Conv2D)            (None, 3, 3, 90)          90090     \n",
            "_________________________________________________________________\n",
            "flatten_1 (Flatten)          (None, 810)               0         \n",
            "_________________________________________________________________\n",
            "dense_1 (Dense)              (None, 600)               486600    \n",
            "_________________________________________________________________\n",
            "dropout_1 (Dropout)          (None, 600)               0         \n",
            "_________________________________________________________________\n",
            "dense_2 (Dense)              (None, 2)                 1202      \n",
            "=================================================================\n",
            "Total params: 700,452\n",
            "Trainable params: 700,452\n",
            "Non-trainable params: 0\n",
            "_________________________________________________________________\n",
            "None\n"
          ],
          "name": "stdout"
        },
        {
          "output_type": "error",
          "ename": "NameError",
          "evalue": "ignored",
          "traceback": [
            "\u001b[0;31m---------------------------------------------------------------------------\u001b[0m",
            "\u001b[0;31mNameError\u001b[0m                                 Traceback (most recent call last)",
            "\u001b[0;32m<ipython-input-2-11956fa9f216>\u001b[0m in \u001b[0;36m<module>\u001b[0;34m()\u001b[0m\n\u001b[1;32m      3\u001b[0m \u001b[0mprint\u001b[0m\u001b[0;34m(\u001b[0m\u001b[0mmodel\u001b[0m\u001b[0;34m.\u001b[0m\u001b[0msummary\u001b[0m\u001b[0;34m(\u001b[0m\u001b[0;34m)\u001b[0m\u001b[0;34m)\u001b[0m\u001b[0;34m\u001b[0m\u001b[0;34m\u001b[0m\u001b[0m\n\u001b[1;32m      4\u001b[0m \u001b[0;34m\u001b[0m\u001b[0m\n\u001b[0;32m----> 5\u001b[0;31m history = model.fit_generator(datagen.flow(X_train, y_train, batch_size=50),\n\u001b[0m\u001b[1;32m      6\u001b[0m                               \u001b[0msteps_per_epoch\u001b[0m\u001b[0;34m=\u001b[0m\u001b[0;36m1500\u001b[0m\u001b[0;34m,\u001b[0m\u001b[0;34m\u001b[0m\u001b[0;34m\u001b[0m\u001b[0m\n\u001b[1;32m      7\u001b[0m                               \u001b[0mepochs\u001b[0m\u001b[0;34m=\u001b[0m\u001b[0;36m15\u001b[0m\u001b[0;34m,\u001b[0m\u001b[0;34m\u001b[0m\u001b[0;34m\u001b[0m\u001b[0m\n",
            "\u001b[0;31mNameError\u001b[0m: name 'datagen' is not defined"
          ]
        }
      ]
    },
    {
      "cell_type": "code",
      "metadata": {
        "id": "JtJy5TrpM16z",
        "colab_type": "code",
        "outputId": "15420b94-2cac-4718-8d47-9fe5a36fdff7",
        "colab": {
          "base_uri": "https://localhost:8080/",
          "height": 329
        }
      },
      "source": [
        "plt.plot(history.history['loss'])\n",
        "plt.plot(history.history['val_loss'])\n",
        "plt.title('loss')\n",
        "plt.xlabel('epoch')\n",
        "\n",
        "plt.plot(history.history['acc'])\n",
        "plt.plot(history.history['val_acc'])\n",
        "plt.title('Accuracy')\n",
        "plt.xlabel('epoch')\n",
        "\n",
        "score = model.evaluate(X_test, y_test, verbose = 0)\n",
        "\n",
        "print('Test score: ',score[0])\n",
        "print('Test accuracy: ',score[1])\n",
        "\n"
      ],
      "execution_count": 0,
      "outputs": [
        {
          "output_type": "stream",
          "text": [
            "Test score:  0.272800558736158\n",
            "Test accuracy:  0.9488372093023256\n"
          ],
          "name": "stdout"
        },
        {
          "output_type": "display_data",
          "data": {
            "image/png": "[encoded data removed]",
            "text/plain": [
              "<Figure size 432x288 with 1 Axes>"
            ]
          },
          "metadata": {
            "tags": []
          }
        }
      ]
    },
    {
      "cell_type": "code",
      "metadata": {
        "id": "k0urAUclclVF",
        "colab_type": "code",
        "colab": {}
      },
      "source": [
        "from IPython.display import display, Javascript\n",
        "from google.colab.output import eval_js\n",
        "from base64 import b64decode\n",
        "\n",
        "def take_photo(filename='photo.jpg', quality=0.8):\n",
        "  js = Javascript('''\n",
        "    async function takePhoto(quality) {\n",
        "      const div = document.createElement('div');\n",
        "      const capture = document.createElement('button');\n",
        "      capture.textContent = 'Capture';\n",
        "      div.appendChild(capture);\n",
        "\n",
        "      const video = document.createElement('video');\n",
        "      video.style.display = 'block';\n",
        "      const stream = await navigator.mediaDevices.getUserMedia({video: true});\n",
        "\n",
        "      document.body.appendChild(div);\n",
        "      div.appendChild(video);\n",
        "      video.srcObject = stream;\n",
        "      await video.play();\n",
        "\n",
        "      // Resize the output to fit the video element.\n",
        "      google.colab.output.setIframeHeight(document.documentElement.scrollHeight, true);\n",
        "\n",
        "      // Wait for Capture to be clicked.\n",
        "      await new Promise((resolve) => capture.onclick = resolve);\n",
        "\n",
        "      const canvas = document.createElement('canvas');\n",
        "      canvas.width = video.videoWidth;\n",
        "      canvas.height = video.videoHeight;\n",
        "      canvas.getContext('2d').drawImage(video, 0, 0);\n",
        "      stream.getVideoTracks()[0].stop();\n",
        "      div.remove();\n",
        "      return canvas.toDataURL('image/jpeg', quality);\n",
        "    }\n",
        "    ''')\n",
        "  display(js)\n",
        "  data = eval_js('takePhoto({})'.format(quality))\n",
        "  binary = b64decode(data.split(',')[1])\n",
        "  with open(filename, 'wb') as f:\n",
        "    f.write(binary)\n",
        "  return filename"
      ],
      "execution_count": 0,
      "outputs": []
    },
    {
      "cell_type": "code",
      "metadata": {
        "id": "IgA_JzNWclH5",
        "colab_type": "code",
        "outputId": "d8f22b66-e873-41f4-ae90-3b4a4324d3bc",
        "colab": {
          "base_uri": "https://localhost:8080/",
          "height": 376
        }
      },
      "source": [
        "from IPython.display import Video\n",
        "try:\n",
        "  filename = take_photo()\n",
        "  print('Saved to {}'.format(filename))\n",
        "  \n",
        "  # Show the image which was just taken.\n",
        "  display(Image(filename))\n",
        "except Exception as err:\n",
        "  # Errors will be thrown if the user does not have a webcam or if they do not\n",
        "  # grant the page permission to access it.\n",
        "  print(str(err))"
      ],
      "execution_count": 0,
      "outputs": [
        {
          "output_type": "error",
          "ename": "ImportError",
          "evalue": "ignored",
          "traceback": [
            "\u001b[0;31m---------------------------------------------------------------------------\u001b[0m",
            "\u001b[0;31mImportError\u001b[0m                               Traceback (most recent call last)",
            "\u001b[0;32m<ipython-input-3-276f23dbd003>\u001b[0m in \u001b[0;36m<module>\u001b[0;34m()\u001b[0m\n\u001b[0;32m----> 1\u001b[0;31m \u001b[0;32mfrom\u001b[0m \u001b[0mIPython\u001b[0m\u001b[0;34m.\u001b[0m\u001b[0mdisplay\u001b[0m \u001b[0;32mimport\u001b[0m \u001b[0mVideo\u001b[0m\u001b[0;34m\u001b[0m\u001b[0;34m\u001b[0m\u001b[0m\n\u001b[0m\u001b[1;32m      2\u001b[0m \u001b[0;32mtry\u001b[0m\u001b[0;34m:\u001b[0m\u001b[0;34m\u001b[0m\u001b[0;34m\u001b[0m\u001b[0m\n\u001b[1;32m      3\u001b[0m   \u001b[0mfilename\u001b[0m \u001b[0;34m=\u001b[0m \u001b[0mtake_photo\u001b[0m\u001b[0;34m(\u001b[0m\u001b[0;34m)\u001b[0m\u001b[0;34m\u001b[0m\u001b[0;34m\u001b[0m\u001b[0m\n\u001b[1;32m      4\u001b[0m   \u001b[0mprint\u001b[0m\u001b[0;34m(\u001b[0m\u001b[0;34m'Saved to {}'\u001b[0m\u001b[0;34m.\u001b[0m\u001b[0mformat\u001b[0m\u001b[0;34m(\u001b[0m\u001b[0mfilename\u001b[0m\u001b[0;34m)\u001b[0m\u001b[0;34m)\u001b[0m\u001b[0;34m\u001b[0m\u001b[0;34m\u001b[0m\u001b[0m\n\u001b[1;32m      5\u001b[0m \u001b[0;34m\u001b[0m\u001b[0m\n",
            "\u001b[0;31mImportError\u001b[0m: cannot import name 'Video'",
            "",
            "\u001b[0;31m---------------------------------------------------------------------------\u001b[0;32m\nNOTE: If your import is failing due to a missing package, you can\nmanually install dependencies using either !pip or !apt.\n\nTo view examples of installing some common dependencies, click the\n\"Open Examples\" button below.\n\u001b[0;31m---------------------------------------------------------------------------\u001b[0m\n"
          ]
        }
      ]
    },
    {
      "cell_type": "code",
      "metadata": {
        "id": "5HpveW5AcrZe",
        "colab_type": "code",
        "colab": {}
      },
      "source": [
        "Qfrom PIL import Image\n",
        "import cv2\n",
        "import numpy as np\n",
        "import matplotlib.pyplot as plt\n",
        "\n",
        "img = cv2.imread('photo.jpg')\n",
        "img = cv2.cvtColor(img, cv2.COLOR_BGR2GRAY)\n",
        "plt.imshow(img, cmap = plt.get_cmap('gray'))\n",
        "\n",
        "img = np.asarray(img)\n",
        "img = cv2.resize(img, (50, 50))\n",
        "img = pre_process(img)\n",
        "plt.imshow(img, cmap = plt.get_cmap('gray'))\n",
        "\n",
        "print(img.shape)\n",
        "\n"
      ],
      "execution_count": 0,
      "outputs": []
    },
    {
      "cell_type": "code",
      "metadata": {
        "id": "zQIkqvX5OX--",
        "colab_type": "code",
        "colab": {}
      },
      "source": [
        "img = img.reshape(1, 50, 50, 1)\n",
        "\n",
        "print('Predicted State: '+ str(model.predict_classes(img)))"
      ],
      "execution_count": 0,
      "outputs": []
    }
  ]
}